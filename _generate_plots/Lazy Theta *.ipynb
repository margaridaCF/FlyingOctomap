{
 "cells": [
  {
   "cell_type": "code",
   "execution_count": 6,
   "metadata": {},
   "outputs": [
    {
     "name": "stdout",
     "output_type": "stream",
     "text": [
      "320 paths analyzed\n"
     ]
    }
   ],
   "source": [
    "\n",
    "\n",
    "from iterations_vs_voxelSize import * \n",
    "\n",
    "line_size = 10\n",
    "resolution = 0.2\n",
    "regularGrid_iterations = line_size/resolution\n",
    "groups_highToLow_back = [1000000000, 250, 101,  regularGrid_iterations+1, regularGrid_iterations-1,  regularGrid_iterations/2, 0]\n",
    "analyzeIterationCsvFile('10m/iterations_cellDistributionoffShoreOil_2Obst_10m', groups_highToLow_back, 'simulated offshore oil platform')"
   ]
  },
  {
   "cell_type": "code",
   "execution_count": null,
   "metadata": {},
   "outputs": [],
   "source": []
  }
 ],
 "metadata": {
  "kernelspec": {
   "display_name": "Python 2",
   "language": "python",
   "name": "python2"
  },
  "language_info": {
   "codemirror_mode": {
    "name": "ipython",
    "version": 2
   },
   "file_extension": ".py",
   "mimetype": "text/x-python",
   "name": "python",
   "nbconvert_exporter": "python",
   "pygments_lexer": "ipython2",
   "version": "2.7.12"
  }
 },
 "nbformat": 4,
 "nbformat_minor": 2
}
