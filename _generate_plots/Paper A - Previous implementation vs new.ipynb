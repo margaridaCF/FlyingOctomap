{
 "cells": [
  {
   "cell_type": "markdown",
   "metadata": {},
   "source": [
    "# Lazy Theta * pseudocode and its implementation\n",
    "####### What were the challenges faced during the implementation and how were they overcome?\n",
    "####### What were the design options in tradeoffs?\n",
    "####### Use experimental data from EUROC demo stage 2\n",
    "### Implementation challenges\n",
    "### RAM memory implications"
   ]
  }
 ],
 "metadata": {
  "kernelspec": {
   "display_name": "Python 2",
   "language": "python",
   "name": "python2"
  },
  "language_info": {
   "codemirror_mode": {
    "name": "ipython",
    "version": 2
   },
   "file_extension": ".py",
   "mimetype": "text/x-python",
   "name": "python",
   "nbconvert_exporter": "python",
   "pygments_lexer": "ipython2",
   "version": "2.7.12"
  }
 },
 "nbformat": 4,
 "nbformat_minor": 2
}
